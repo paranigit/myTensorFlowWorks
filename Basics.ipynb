{
 "cells": [
  {
   "cell_type": "code",
   "execution_count": 2,
   "id": "be62d2ef",
   "metadata": {},
   "outputs": [],
   "source": [
    "import tensorflow as tf\n",
    "import numpy as np"
   ]
  },
  {
   "cell_type": "code",
   "execution_count": 2,
   "id": "77937ae7",
   "metadata": {},
   "outputs": [
    {
     "name": "stdout",
     "output_type": "stream",
     "text": [
      "2.5.0\n"
     ]
    }
   ],
   "source": [
    "print(tf.__version__)"
   ]
  },
  {
   "cell_type": "markdown",
   "id": "5dcef688",
   "metadata": {},
   "source": [
    "## TensorFlow Basic Syntax"
   ]
  },
  {
   "cell_type": "markdown",
   "id": "a5162be5",
   "metadata": {},
   "source": [
    "### Constants"
   ]
  },
  {
   "cell_type": "code",
   "execution_count": 3,
   "id": "07df12b5",
   "metadata": {},
   "outputs": [
    {
     "output_type": "stream",
     "name": "stdout",
     "text": [
      "tf.Tensor(b'hello ', shape=(), dtype=string)\n<class 'tensorflow.python.framework.ops.EagerTensor'>\n"
     ]
    }
   ],
   "source": [
    "hello = tf.constant(\"hello \")\n",
    "world = tf.constant(\"world\")\n",
    "print(hello) # b'hello' represents byte string; python3\n",
    "print(type(hello))"
   ]
  },
  {
   "cell_type": "code",
   "execution_count": 15,
   "id": "ab146ef8",
   "metadata": {},
   "outputs": [],
   "source": [
    "# TF1 requires a session to run tensorflow code usually.\n",
    "# TF2 runs Eager Execution by default, No need for Sessions. (tf.Session() not required)\n",
    "result = hello + world"
   ]
  },
  {
   "cell_type": "code",
   "execution_count": 17,
   "id": "8508af27",
   "metadata": {},
   "outputs": [
    {
     "name": "stdout",
     "output_type": "stream",
     "text": [
      "hello world\n"
     ]
    }
   ],
   "source": [
    "tf.print(result)"
   ]
  },
  {
   "cell_type": "code",
   "execution_count": 18,
   "id": "41b7757d",
   "metadata": {},
   "outputs": [],
   "source": [
    "a = tf.constant(10)\n",
    "b = tf.constant(20)"
   ]
  },
  {
   "cell_type": "code",
   "execution_count": 20,
   "id": "fcc79a00",
   "metadata": {},
   "outputs": [
    {
     "name": "stdout",
     "output_type": "stream",
     "text": [
      "tf.Tensor(30, shape=(), dtype=int32)\n",
      "30\n"
     ]
    }
   ],
   "source": [
    "print(a + b)\n",
    "tf.print(a + b)"
   ]
  },
  {
   "cell_type": "markdown",
   "id": "892b1155",
   "metadata": {},
   "source": [
    "### Matrix"
   ]
  },
  {
   "cell_type": "code",
   "execution_count": 22,
   "id": "edf5ac10",
   "metadata": {},
   "outputs": [
    {
     "data": {
      "text/plain": [
       "<tf.Tensor: shape=(5, 5), dtype=int32, numpy=\n",
       "array([[3, 3, 3, 3, 3],\n",
       "       [3, 3, 3, 3, 3],\n",
       "       [3, 3, 3, 3, 3],\n",
       "       [3, 3, 3, 3, 3],\n",
       "       [3, 3, 3, 3, 3]], dtype=int32)>"
      ]
     },
     "execution_count": 22,
     "metadata": {},
     "output_type": "execute_result"
    }
   ],
   "source": [
    "# Fill\n",
    "\n",
    "fill_mat = tf.fill((5,5), 3)\n",
    "fill_mat"
   ]
  },
  {
   "cell_type": "code",
   "execution_count": 27,
   "id": "2bb90d8e",
   "metadata": {},
   "outputs": [
    {
     "data": {
      "text/plain": [
       "<tf.Tensor: shape=(3, 3), dtype=int32, numpy=\n",
       "array([[0, 0, 0],\n",
       "       [0, 0, 0],\n",
       "       [0, 0, 0]], dtype=int32)>"
      ]
     },
     "execution_count": 27,
     "metadata": {},
     "output_type": "execute_result"
    }
   ],
   "source": [
    "# Zeros\n",
    "\n",
    "zero_mat = tf.zeros((3,3), dtype=np.int32)\n",
    "zero_mat"
   ]
  },
  {
   "cell_type": "code",
   "execution_count": 28,
   "id": "6edc71f4",
   "metadata": {},
   "outputs": [
    {
     "data": {
      "text/plain": [
       "<tf.Tensor: shape=(3, 4), dtype=float32, numpy=\n",
       "array([[1., 1., 1., 1.],\n",
       "       [1., 1., 1., 1.],\n",
       "       [1., 1., 1., 1.]], dtype=float32)>"
      ]
     },
     "execution_count": 28,
     "metadata": {},
     "output_type": "execute_result"
    }
   ],
   "source": [
    "# Ones\n",
    "\n",
    "one_mat = tf.ones((3,4))\n",
    "one_mat"
   ]
  },
  {
   "cell_type": "code",
   "execution_count": 7,
   "id": "ddf92d62",
   "metadata": {},
   "outputs": [
    {
     "data": {
      "text/plain": [
       "<tf.Tensor: shape=(4, 4), dtype=float32, numpy=\n",
       "array([[-0.2684068 , -0.74726945,  0.88202053,  1.6282356 ],\n",
       "       [ 0.01758729, -0.35391816,  2.052887  ,  1.1894195 ],\n",
       "       [-0.9966169 , -1.3076576 , -0.5862183 ,  3.146374  ],\n",
       "       [-2.2406988 ,  1.2894658 , -1.6540389 ,  2.0600786 ]],\n",
       "      dtype=float32)>"
      ]
     },
     "execution_count": 7,
     "metadata": {},
     "output_type": "execute_result"
    }
   ],
   "source": [
    "# Random\n",
    "\n",
    "ran_mat = tf.random.normal((4,4), mean=0, stddev=2.0) # In TF1, it was tf.random_normal\n",
    "ran_mat"
   ]
  },
  {
   "cell_type": "code",
   "execution_count": 9,
   "id": "5b3a36d5",
   "metadata": {},
   "outputs": [
    {
     "data": {
      "text/plain": [
       "<tf.Tensor: shape=(4, 4), dtype=float32, numpy=\n",
       "array([[0.34985125, 0.21115744, 0.4019301 , 0.39896095],\n",
       "       [0.8578422 , 0.99546957, 0.7420329 , 0.8205298 ],\n",
       "       [0.23450744, 0.45629215, 0.3514229 , 0.5722505 ],\n",
       "       [0.31737995, 0.6283146 , 0.8245152 , 0.3072964 ]], dtype=float32)>"
      ]
     },
     "execution_count": 9,
     "metadata": {},
     "output_type": "execute_result"
    }
   ],
   "source": [
    "# Random Uniform\n",
    "tf.random.uniform((4,4), minval=0, maxval=1)"
   ]
  },
  {
   "cell_type": "markdown",
   "id": "2016b459",
   "metadata": {},
   "source": [
    "### Matrix Operations"
   ]
  },
  {
   "cell_type": "code",
   "execution_count": 47,
   "id": "829174f7",
   "metadata": {},
   "outputs": [
    {
     "data": {
      "text/plain": [
       "<tf.Tensor: shape=(4, 3), dtype=int32, numpy=\n",
       "array([[1, 1, 1],\n",
       "       [1, 1, 1],\n",
       "       [1, 1, 1],\n",
       "       [1, 1, 1]], dtype=int32)>"
      ]
     },
     "execution_count": 47,
     "metadata": {},
     "output_type": "execute_result"
    }
   ],
   "source": [
    "a = tf.ones((4,3), dtype=np.int32)\n",
    "a"
   ]
  },
  {
   "cell_type": "code",
   "execution_count": 48,
   "id": "a5347794",
   "metadata": {},
   "outputs": [
    {
     "data": {
      "text/plain": [
       "TensorShape([4, 3])"
      ]
     },
     "execution_count": 48,
     "metadata": {},
     "output_type": "execute_result"
    }
   ],
   "source": [
    "a.get_shape()"
   ]
  },
  {
   "cell_type": "code",
   "execution_count": 53,
   "id": "13aa41d4",
   "metadata": {},
   "outputs": [
    {
     "data": {
      "text/plain": [
       "TensorShape([3, 1])"
      ]
     },
     "execution_count": 53,
     "metadata": {},
     "output_type": "execute_result"
    }
   ],
   "source": [
    "b = tf.constant([[10],[20],[30]], dtype=np.int32)\n",
    "b.get_shape()"
   ]
  },
  {
   "cell_type": "code",
   "execution_count": 54,
   "id": "e0da7a79",
   "metadata": {},
   "outputs": [
    {
     "data": {
      "text/plain": [
       "TensorShape([3, 2])"
      ]
     },
     "execution_count": 54,
     "metadata": {},
     "output_type": "execute_result"
    }
   ],
   "source": [
    "c = tf.constant([[10, 20], [30, 40], [50, 60]], dtype=np.int32)\n",
    "c.get_shape()"
   ]
  },
  {
   "cell_type": "code",
   "execution_count": 55,
   "id": "63be3da0",
   "metadata": {},
   "outputs": [
    {
     "data": {
      "text/plain": [
       "<tf.Tensor: shape=(4, 1), dtype=int32, numpy=\n",
       "array([[60],\n",
       "       [60],\n",
       "       [60],\n",
       "       [60]], dtype=int32)>"
      ]
     },
     "execution_count": 55,
     "metadata": {},
     "output_type": "execute_result"
    }
   ],
   "source": [
    "# Matrix multiplication (Dot product) \n",
    "# For multiplication of 2 matrix, it is important to get the column count of first Matrix \n",
    "# should match row count of second Matrix.\n",
    "\n",
    "tf.matmul(a, b)"
   ]
  },
  {
   "cell_type": "code",
   "execution_count": 56,
   "id": "0081664f",
   "metadata": {},
   "outputs": [
    {
     "data": {
      "text/plain": [
       "<tf.Tensor: shape=(4, 2), dtype=int32, numpy=\n",
       "array([[ 90, 120],\n",
       "       [ 90, 120],\n",
       "       [ 90, 120],\n",
       "       [ 90, 120]], dtype=int32)>"
      ]
     },
     "execution_count": 56,
     "metadata": {},
     "output_type": "execute_result"
    }
   ],
   "source": [
    "tf.matmul(a, c)"
   ]
  },
  {
   "cell_type": "code",
   "execution_count": 76,
   "id": "41a2324b",
   "metadata": {},
   "outputs": [
    {
     "name": "stdout",
     "output_type": "stream",
     "text": [
      "tf.Tensor(\n",
      "[[7 0 3]\n",
      " [9 7 3]\n",
      " [5 0 4]\n",
      " [0 2 9]], shape=(4, 3), dtype=int32)\n",
      "(4, 3)\n"
     ]
    },
    {
     "data": {
      "text/plain": [
       "<tf.Tensor: shape=(4, 1), dtype=int32, numpy=\n",
       "array([[10],\n",
       "       [19],\n",
       "       [ 9],\n",
       "       [11]], dtype=int32)>"
      ]
     },
     "execution_count": 76,
     "metadata": {},
     "output_type": "execute_result"
    }
   ],
   "source": [
    "# To get some of all values in each row in a matrix, \n",
    "# multiply that matrix by unit matrix of size (no.of cols, 1)\n",
    "\n",
    "t = tf.random.uniform((4, 3), dtype=np.int32, maxval=10)\n",
    "print(t)\n",
    "print(t.get_shape())\n",
    "unt = tf.ones((t.get_shape()[1], 1), dtype=np.int32)\n",
    "tf.matmul(t, unt)"
   ]
  },
  {
   "cell_type": "markdown",
   "id": "dff94260",
   "metadata": {},
   "source": [
    "## TensorFlow Graphs\n",
    "\n",
    "* Graphs are set of connected nodes which is called vertices.\n",
    "* TF constructs the graph and executes it."
   ]
  },
  {
   "cell_type": "code",
   "execution_count": 5,
   "id": "d586b0ff",
   "metadata": {},
   "outputs": [
    {
     "name": "stdout",
     "output_type": "stream",
     "text": [
      "tf.Tensor(2, shape=(), dtype=int32)\n",
      "tf.Tensor(6, shape=(), dtype=int32)\n",
      "tf.Tensor(8, shape=(), dtype=int32)\n",
      "tf.Tensor(8, shape=(), dtype=int32)\n"
     ]
    }
   ],
   "source": [
    "# n1, n2 - Constant Nodes\n",
    "# n3 - Operation node\n",
    "\n",
    "n1 = tf.constant(2)\n",
    "n2 = tf.constant(6)\n",
    "n3 = tf.add(n1, n2)\n",
    "n4 = n1 + n2\n",
    "\n",
    "print(n1)\n",
    "print(n2)\n",
    "print(n3)\n",
    "print(n4)"
   ]
  },
  {
   "cell_type": "code",
   "execution_count": 18,
   "id": "aeb22beb",
   "metadata": {},
   "outputs": [
    {
     "name": "stdout",
     "output_type": "stream",
     "text": [
      "<tensorflow.python.framework.ops.Graph object at 0x14ca202b0>\n"
     ]
    }
   ],
   "source": [
    "# print(tf.get_default_graph()) for TF1\n",
    "dflt = tf.compat.v1.get_default_graph()\n",
    "print(dflt)"
   ]
  },
  {
   "cell_type": "code",
   "execution_count": 21,
   "id": "b8da4f96",
   "metadata": {},
   "outputs": [
    {
     "ename": "TypeError",
     "evalue": "as_default() missing 1 required positional argument: 'self'",
     "output_type": "error",
     "traceback": [
      "\u001b[0;31m---------------------------------------------------------------------------\u001b[0m",
      "\u001b[0;31mTypeError\u001b[0m                                 Traceback (most recent call last)",
      "\u001b[0;32m<ipython-input-21-b3ecd395c300>\u001b[0m in \u001b[0;36m<module>\u001b[0;34m\u001b[0m\n\u001b[1;32m      1\u001b[0m \u001b[0mg1\u001b[0m \u001b[0;34m=\u001b[0m \u001b[0mtf\u001b[0m\u001b[0;34m.\u001b[0m\u001b[0mGraph\u001b[0m\u001b[0;34m\u001b[0m\u001b[0;34m\u001b[0m\u001b[0m\n\u001b[0;32m----> 2\u001b[0;31m \u001b[0;32mwith\u001b[0m \u001b[0mg1\u001b[0m\u001b[0;34m.\u001b[0m\u001b[0mas_default\u001b[0m\u001b[0;34m(\u001b[0m\u001b[0;34m)\u001b[0m\u001b[0;34m:\u001b[0m\u001b[0;34m\u001b[0m\u001b[0;34m\u001b[0m\u001b[0m\n\u001b[0m\u001b[1;32m      3\u001b[0m     \u001b[0mprint\u001b[0m \u001b[0;34m(\u001b[0m\u001b[0mtf\u001b[0m\u001b[0;34m.\u001b[0m\u001b[0mcompat\u001b[0m\u001b[0;34m.\u001b[0m\u001b[0mv1\u001b[0m\u001b[0;34m.\u001b[0m\u001b[0mget_default_graph\u001b[0m\u001b[0;34m(\u001b[0m\u001b[0;34m)\u001b[0m\u001b[0;34m)\u001b[0m\u001b[0;34m\u001b[0m\u001b[0;34m\u001b[0m\u001b[0m\n\u001b[1;32m      4\u001b[0m \u001b[0;34m\u001b[0m\u001b[0m\n",
      "\u001b[0;31mTypeError\u001b[0m: as_default() missing 1 required positional argument: 'self'"
     ]
    }
   ],
   "source": [
    "g1 = tf.Graph\n",
    "with g1.as_default():\n",
    "    print (tf.compat.v1.get_default_graph())\n",
    "    "
   ]
  },
  {
   "cell_type": "code",
   "execution_count": null,
   "id": "187acbdb",
   "metadata": {},
   "outputs": [],
   "source": []
  }
 ],
 "metadata": {
  "kernelspec": {
   "display_name": "deep-modeling",
   "language": "python",
   "name": "deep-modeling"
  }
 },
 "nbformat": 4,
 "nbformat_minor": 5
}