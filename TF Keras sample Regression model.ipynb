{
 "cells": [
  {
   "cell_type": "code",
   "execution_count": 1,
   "id": "78394fab",
   "metadata": {},
   "outputs": [],
   "source": [
    "import pandas as pd\n",
    "import numpy as np\n",
    "\n",
    "import seaborn as sns"
   ]
  },
  {
   "cell_type": "code",
   "execution_count": 2,
   "id": "bd9ef077",
   "metadata": {},
   "outputs": [],
   "source": [
    "df = pd.read_csv(\"./data/fake_reg.csv\")"
   ]
  },
  {
   "cell_type": "code",
   "execution_count": 101,
   "id": "b73542f9",
   "metadata": {},
   "outputs": [
    {
     "data": {
      "text/html": [
       "<div>\n",
       "<style scoped>\n",
       "    .dataframe tbody tr th:only-of-type {\n",
       "        vertical-align: middle;\n",
       "    }\n",
       "\n",
       "    .dataframe tbody tr th {\n",
       "        vertical-align: top;\n",
       "    }\n",
       "\n",
       "    .dataframe thead th {\n",
       "        text-align: right;\n",
       "    }\n",
       "</style>\n",
       "<table border=\"1\" class=\"dataframe\">\n",
       "  <thead>\n",
       "    <tr style=\"text-align: right;\">\n",
       "      <th></th>\n",
       "      <th>price</th>\n",
       "      <th>feature1</th>\n",
       "      <th>feature2</th>\n",
       "    </tr>\n",
       "  </thead>\n",
       "  <tbody>\n",
       "    <tr>\n",
       "      <th>0</th>\n",
       "      <td>461.527929</td>\n",
       "      <td>999.787558</td>\n",
       "      <td>999.766096</td>\n",
       "    </tr>\n",
       "    <tr>\n",
       "      <th>1</th>\n",
       "      <td>548.130011</td>\n",
       "      <td>998.861615</td>\n",
       "      <td>1001.042403</td>\n",
       "    </tr>\n",
       "    <tr>\n",
       "      <th>2</th>\n",
       "      <td>410.297162</td>\n",
       "      <td>1000.070267</td>\n",
       "      <td>998.844015</td>\n",
       "    </tr>\n",
       "    <tr>\n",
       "      <th>3</th>\n",
       "      <td>540.382220</td>\n",
       "      <td>999.952251</td>\n",
       "      <td>1000.440940</td>\n",
       "    </tr>\n",
       "    <tr>\n",
       "      <th>4</th>\n",
       "      <td>546.024553</td>\n",
       "      <td>1000.446011</td>\n",
       "      <td>1000.338531</td>\n",
       "    </tr>\n",
       "  </tbody>\n",
       "</table>\n",
       "</div>"
      ],
      "text/plain": [
       "        price     feature1     feature2\n",
       "0  461.527929   999.787558   999.766096\n",
       "1  548.130011   998.861615  1001.042403\n",
       "2  410.297162  1000.070267   998.844015\n",
       "3  540.382220   999.952251  1000.440940\n",
       "4  546.024553  1000.446011  1000.338531"
      ]
     },
     "execution_count": 101,
     "metadata": {},
     "output_type": "execute_result"
    }
   ],
   "source": [
    "df.head()"
   ]
  },
  {
   "cell_type": "code",
   "execution_count": 102,
   "id": "37be52ff",
   "metadata": {},
   "outputs": [
    {
     "data": {
      "text/html": [
       "<div>\n",
       "<style scoped>\n",
       "    .dataframe tbody tr th:only-of-type {\n",
       "        vertical-align: middle;\n",
       "    }\n",
       "\n",
       "    .dataframe tbody tr th {\n",
       "        vertical-align: top;\n",
       "    }\n",
       "\n",
       "    .dataframe thead th {\n",
       "        text-align: right;\n",
       "    }\n",
       "</style>\n",
       "<table border=\"1\" class=\"dataframe\">\n",
       "  <thead>\n",
       "    <tr style=\"text-align: right;\">\n",
       "      <th></th>\n",
       "      <th>price</th>\n",
       "      <th>feature1</th>\n",
       "      <th>feature2</th>\n",
       "    </tr>\n",
       "  </thead>\n",
       "  <tbody>\n",
       "    <tr>\n",
       "      <th>count</th>\n",
       "      <td>1000.000000</td>\n",
       "      <td>1000.000000</td>\n",
       "      <td>1000.000000</td>\n",
       "    </tr>\n",
       "    <tr>\n",
       "      <th>mean</th>\n",
       "      <td>498.673029</td>\n",
       "      <td>1000.014171</td>\n",
       "      <td>999.979847</td>\n",
       "    </tr>\n",
       "    <tr>\n",
       "      <th>std</th>\n",
       "      <td>93.785431</td>\n",
       "      <td>0.974018</td>\n",
       "      <td>0.948330</td>\n",
       "    </tr>\n",
       "    <tr>\n",
       "      <th>min</th>\n",
       "      <td>223.346793</td>\n",
       "      <td>997.058347</td>\n",
       "      <td>996.995651</td>\n",
       "    </tr>\n",
       "    <tr>\n",
       "      <th>25%</th>\n",
       "      <td>433.025732</td>\n",
       "      <td>999.332068</td>\n",
       "      <td>999.316106</td>\n",
       "    </tr>\n",
       "    <tr>\n",
       "      <th>50%</th>\n",
       "      <td>502.382117</td>\n",
       "      <td>1000.009915</td>\n",
       "      <td>1000.002243</td>\n",
       "    </tr>\n",
       "    <tr>\n",
       "      <th>75%</th>\n",
       "      <td>564.921588</td>\n",
       "      <td>1000.637580</td>\n",
       "      <td>1000.645380</td>\n",
       "    </tr>\n",
       "    <tr>\n",
       "      <th>max</th>\n",
       "      <td>774.407854</td>\n",
       "      <td>1003.207934</td>\n",
       "      <td>1002.666308</td>\n",
       "    </tr>\n",
       "  </tbody>\n",
       "</table>\n",
       "</div>"
      ],
      "text/plain": [
       "             price     feature1     feature2\n",
       "count  1000.000000  1000.000000  1000.000000\n",
       "mean    498.673029  1000.014171   999.979847\n",
       "std      93.785431     0.974018     0.948330\n",
       "min     223.346793   997.058347   996.995651\n",
       "25%     433.025732   999.332068   999.316106\n",
       "50%     502.382117  1000.009915  1000.002243\n",
       "75%     564.921588  1000.637580  1000.645380\n",
       "max     774.407854  1003.207934  1002.666308"
      ]
     },
     "execution_count": 102,
     "metadata": {},
     "output_type": "execute_result"
    }
   ],
   "source": [
    "df.describe()"
   ]
  },
  {
   "cell_type": "code",
   "execution_count": 4,
   "id": "735a3e1b",
   "metadata": {},
   "outputs": [
    {
     "data": {
      "text/plain": [
       "<seaborn.axisgrid.PairGrid at 0x128bf7040>"
      ]
     },
     "execution_count": 4,
     "metadata": {},
     "output_type": "execute_result"
    },
    {
     "data": {
      "image/png": "[encoded data removed]",
      "text/plain": [
       "<Figure size 540x540 with 12 Axes>"
      ]
     },
     "metadata": {
      "needs_background": "light"
     },
     "output_type": "display_data"
    }
   ],
   "source": [
    "# Print the pair plot\n",
    "sns.pairplot(df)"
   ]
  },
  {
   "cell_type": "code",
   "execution_count": 5,
   "id": "c34419e7",
   "metadata": {},
   "outputs": [],
   "source": [
    "from sklearn.model_selection import train_test_split"
   ]
  },
  {
   "cell_type": "code",
   "execution_count": 6,
   "id": "3d668137",
   "metadata": {},
   "outputs": [],
   "source": [
    "# TensorFlow works with Numpy Arrays\n",
    "# So get features and convert to np array\n",
    "X = df.iloc[:,1:].values\n",
    "y = df.price.values"
   ]
  },
  {
   "cell_type": "code",
   "execution_count": 7,
   "id": "3aa79338",
   "metadata": {},
   "outputs": [
    {
     "name": "stdout",
     "output_type": "stream",
     "text": [
      "(1000, 2)\n",
      "(1000,)\n"
     ]
    }
   ],
   "source": [
    "print(X.shape)\n",
    "print(y.shape)"
   ]
  },
  {
   "cell_type": "code",
   "execution_count": 8,
   "id": "78f48ed7",
   "metadata": {},
   "outputs": [
    {
     "data": {
      "text/plain": [
       "array([[ 999.78755752,  999.7660962 ],\n",
       "       [ 998.86161491, 1001.04240315],\n",
       "       [1000.07026691,  998.84401463],\n",
       "       [ 999.9522513 , 1000.44094031],\n",
       "       [1000.44601093, 1000.33853129]])"
      ]
     },
     "execution_count": 8,
     "metadata": {},
     "output_type": "execute_result"
    }
   ],
   "source": [
    "X[:5]"
   ]
  },
  {
   "cell_type": "code",
   "execution_count": 9,
   "id": "551496fd",
   "metadata": {},
   "outputs": [
    {
     "data": {
      "text/plain": [
       "array([461.52792939, 548.13001146, 410.29716167, 540.38221981,\n",
       "       546.02455292])"
      ]
     },
     "execution_count": 9,
     "metadata": {},
     "output_type": "execute_result"
    }
   ],
   "source": [
    "y[:5]"
   ]
  },
  {
   "cell_type": "code",
   "execution_count": 10,
   "id": "1fc32e64",
   "metadata": {},
   "outputs": [],
   "source": [
    "X_train, X_test, y_train, y_test = train_test_split(X, y, test_size=0.3, random_state=42)"
   ]
  },
  {
   "cell_type": "code",
   "execution_count": 11,
   "id": "601345b5",
   "metadata": {},
   "outputs": [
    {
     "data": {
      "text/plain": [
       "(700, 2)"
      ]
     },
     "execution_count": 11,
     "metadata": {},
     "output_type": "execute_result"
    }
   ],
   "source": [
    "X_train.shape"
   ]
  },
  {
   "cell_type": "code",
   "execution_count": 12,
   "id": "d6de2094",
   "metadata": {},
   "outputs": [],
   "source": [
    "# Normalization usually required in features\n",
    "# This is because, havinng large features values could cause errors in weights & biases of NN/W.\n",
    "# No need to scale the label\n",
    "from sklearn.preprocessing import MinMaxScaler"
   ]
  },
  {
   "cell_type": "code",
   "execution_count": 13,
   "id": "9306c3e2",
   "metadata": {},
   "outputs": [
    {
     "name": "stdout",
     "output_type": "stream",
     "text": [
      "Help on class MinMaxScaler in module sklearn.preprocessing._data:\n",
      "\n",
      "class MinMaxScaler(sklearn.base.TransformerMixin, sklearn.base.BaseEstimator)\n",
      " |  MinMaxScaler(feature_range=(0, 1), *, copy=True, clip=False)\n",
      " |  \n",
      " |  Transform features by scaling each feature to a given range.\n",
      " |  \n",
      " |  This estimator scales and translates each feature individually such\n",
      " |  that it is in the given range on the training set, e.g. between\n",
      " |  zero and one.\n",
      " |  \n",
      " |  The transformation is given by::\n",
      " |  \n",
      " |      X_std = (X - X.min(axis=0)) / (X.max(axis=0) - X.min(axis=0))\n",
      " |      X_scaled = X_std * (max - min) + min\n",
      " |  \n",
      " |  where min, max = feature_range.\n",
      " |  \n",
      " |  This transformation is often used as an alternative to zero mean,\n",
      " |  unit variance scaling.\n",
      " |  \n",
      " |  Read more in the :ref:`User Guide <preprocessing_scaler>`.\n",
      " |  \n",
      " |  Parameters\n",
      " |  ----------\n",
      " |  feature_range : tuple (min, max), default=(0, 1)\n",
      " |      Desired range of transformed data.\n",
      " |  \n",
      " |  copy : bool, default=True\n",
      " |      Set to False to perform inplace row normalization and avoid a\n",
      " |      copy (if the input is already a numpy array).\n",
      " |  \n",
      " |  clip : bool, default=False\n",
      " |      Set to True to clip transformed values of held-out data to\n",
      " |      provided `feature range`.\n",
      " |  \n",
      " |      .. versionadded:: 0.24\n",
      " |  \n",
      " |  Attributes\n",
      " |  ----------\n",
      " |  min_ : ndarray of shape (n_features,)\n",
      " |      Per feature adjustment for minimum. Equivalent to\n",
      " |      ``min - X.min(axis=0) * self.scale_``\n",
      " |  \n",
      " |  scale_ : ndarray of shape (n_features,)\n",
      " |      Per feature relative scaling of the data. Equivalent to\n",
      " |      ``(max - min) / (X.max(axis=0) - X.min(axis=0))``\n",
      " |  \n",
      " |      .. versionadded:: 0.17\n",
      " |         *scale_* attribute.\n",
      " |  \n",
      " |  data_min_ : ndarray of shape (n_features,)\n",
      " |      Per feature minimum seen in the data\n",
      " |  \n",
      " |      .. versionadded:: 0.17\n",
      " |         *data_min_*\n",
      " |  \n",
      " |  data_max_ : ndarray of shape (n_features,)\n",
      " |      Per feature maximum seen in the data\n",
      " |  \n",
      " |      .. versionadded:: 0.17\n",
      " |         *data_max_*\n",
      " |  \n",
      " |  data_range_ : ndarray of shape (n_features,)\n",
      " |      Per feature range ``(data_max_ - data_min_)`` seen in the data\n",
      " |  \n",
      " |      .. versionadded:: 0.17\n",
      " |         *data_range_*\n",
      " |  \n",
      " |  n_samples_seen_ : int\n",
      " |      The number of samples processed by the estimator.\n",
      " |      It will be reset on new calls to fit, but increments across\n",
      " |      ``partial_fit`` calls.\n",
      " |  \n",
      " |  Examples\n",
      " |  --------\n",
      " |  >>> from sklearn.preprocessing import MinMaxScaler\n",
      " |  >>> data = [[-1, 2], [-0.5, 6], [0, 10], [1, 18]]\n",
      " |  >>> scaler = MinMaxScaler()\n",
      " |  >>> print(scaler.fit(data))\n",
      " |  MinMaxScaler()\n",
      " |  >>> print(scaler.data_max_)\n",
      " |  [ 1. 18.]\n",
      " |  >>> print(scaler.transform(data))\n",
      " |  [[0.   0.  ]\n",
      " |   [0.25 0.25]\n",
      " |   [0.5  0.5 ]\n",
      " |   [1.   1.  ]]\n",
      " |  >>> print(scaler.transform([[2, 2]]))\n",
      " |  [[1.5 0. ]]\n",
      " |  \n",
      " |  See Also\n",
      " |  --------\n",
      " |  minmax_scale : Equivalent function without the estimator API.\n",
      " |  \n",
      " |  Notes\n",
      " |  -----\n",
      " |  NaNs are treated as missing values: disregarded in fit, and maintained in\n",
      " |  transform.\n",
      " |  \n",
      " |  For a comparison of the different scalers, transformers, and normalizers,\n",
      " |  see :ref:`examples/preprocessing/plot_all_scaling.py\n",
      " |  <sphx_glr_auto_examples_preprocessing_plot_all_scaling.py>`.\n",
      " |  \n",
      " |  Method resolution order:\n",
      " |      MinMaxScaler\n",
      " |      sklearn.base.TransformerMixin\n",
      " |      sklearn.base.BaseEstimator\n",
      " |      builtins.object\n",
      " |  \n",
      " |  Methods defined here:\n",
      " |  \n",
      " |  __init__(self, feature_range=(0, 1), *, copy=True, clip=False)\n",
      " |      Initialize self.  See help(type(self)) for accurate signature.\n",
      " |  \n",
      " |  fit(self, X, y=None)\n",
      " |      Compute the minimum and maximum to be used for later scaling.\n",
      " |      \n",
      " |      Parameters\n",
      " |      ----------\n",
      " |      X : array-like of shape (n_samples, n_features)\n",
      " |          The data used to compute the per-feature minimum and maximum\n",
      " |          used for later scaling along the features axis.\n",
      " |      \n",
      " |      y : None\n",
      " |          Ignored.\n",
      " |      \n",
      " |      Returns\n",
      " |      -------\n",
      " |      self : object\n",
      " |          Fitted scaler.\n",
      " |  \n",
      " |  inverse_transform(self, X)\n",
      " |      Undo the scaling of X according to feature_range.\n",
      " |      \n",
      " |      Parameters\n",
      " |      ----------\n",
      " |      X : array-like of shape (n_samples, n_features)\n",
      " |          Input data that will be transformed. It cannot be sparse.\n",
      " |      \n",
      " |      Returns\n",
      " |      -------\n",
      " |      Xt : ndarray of shape (n_samples, n_features)\n",
      " |          Transformed data.\n",
      " |  \n",
      " |  partial_fit(self, X, y=None)\n",
      " |      Online computation of min and max on X for later scaling.\n",
      " |      \n",
      " |      All of X is processed as a single batch. This is intended for cases\n",
      " |      when :meth:`fit` is not feasible due to very large number of\n",
      " |      `n_samples` or because X is read from a continuous stream.\n",
      " |      \n",
      " |      Parameters\n",
      " |      ----------\n",
      " |      X : array-like of shape (n_samples, n_features)\n",
      " |          The data used to compute the mean and standard deviation\n",
      " |          used for later scaling along the features axis.\n",
      " |      \n",
      " |      y : None\n",
      " |          Ignored.\n",
      " |      \n",
      " |      Returns\n",
      " |      -------\n",
      " |      self : object\n",
      " |          Fitted scaler.\n",
      " |  \n",
      " |  transform(self, X)\n",
      " |      Scale features of X according to feature_range.\n",
      " |      \n",
      " |      Parameters\n",
      " |      ----------\n",
      " |      X : array-like of shape (n_samples, n_features)\n",
      " |          Input data that will be transformed.\n",
      " |      \n",
      " |      Returns\n",
      " |      -------\n",
      " |      Xt : ndarray of shape (n_samples, n_features)\n",
      " |          Transformed data.\n",
      " |  \n",
      " |  ----------------------------------------------------------------------\n",
      " |  Methods inherited from sklearn.base.TransformerMixin:\n",
      " |  \n",
      " |  fit_transform(self, X, y=None, **fit_params)\n",
      " |      Fit to data, then transform it.\n",
      " |      \n",
      " |      Fits transformer to `X` and `y` with optional parameters `fit_params`\n",
      " |      and returns a transformed version of `X`.\n",
      " |      \n",
      " |      Parameters\n",
      " |      ----------\n",
      " |      X : array-like of shape (n_samples, n_features)\n",
      " |          Input samples.\n",
      " |      \n",
      " |      y :  array-like of shape (n_samples,) or (n_samples, n_outputs),                 default=None\n",
      " |          Target values (None for unsupervised transformations).\n",
      " |      \n",
      " |      **fit_params : dict\n",
      " |          Additional fit parameters.\n",
      " |      \n",
      " |      Returns\n",
      " |      -------\n",
      " |      X_new : ndarray array of shape (n_samples, n_features_new)\n",
      " |          Transformed array.\n",
      " |  \n",
      " |  ----------------------------------------------------------------------\n",
      " |  Data descriptors inherited from sklearn.base.TransformerMixin:\n",
      " |  \n",
      " |  __dict__\n",
      " |      dictionary for instance variables (if defined)\n",
      " |  \n",
      " |  __weakref__\n",
      " |      list of weak references to the object (if defined)\n",
      " |  \n",
      " |  ----------------------------------------------------------------------\n",
      " |  Methods inherited from sklearn.base.BaseEstimator:\n",
      " |  \n",
      " |  __getstate__(self)\n",
      " |  \n",
      " |  __repr__(self, N_CHAR_MAX=700)\n",
      " |      Return repr(self).\n",
      " |  \n",
      " |  __setstate__(self, state)\n",
      " |  \n",
      " |  get_params(self, deep=True)\n",
      " |      Get parameters for this estimator.\n",
      " |      \n",
      " |      Parameters\n",
      " |      ----------\n",
      " |      deep : bool, default=True\n",
      " |          If True, will return the parameters for this estimator and\n",
      " |          contained subobjects that are estimators.\n",
      " |      \n",
      " |      Returns\n",
      " |      -------\n",
      " |      params : dict\n",
      " |          Parameter names mapped to their values.\n",
      " |  \n",
      " |  set_params(self, **params)\n",
      " |      Set the parameters of this estimator.\n",
      " |      \n",
      " |      The method works on simple estimators as well as on nested objects\n",
      " |      (such as :class:`~sklearn.pipeline.Pipeline`). The latter have\n",
      " |      parameters of the form ``<component>__<parameter>`` so that it's\n",
      " |      possible to update each component of a nested object.\n",
      " |      \n",
      " |      Parameters\n",
      " |      ----------\n",
      " |      **params : dict\n",
      " |          Estimator parameters.\n",
      " |      \n",
      " |      Returns\n",
      " |      -------\n",
      " |      self : estimator instance\n",
      " |          Estimator instance.\n",
      "\n"
     ]
    }
   ],
   "source": [
    "help(MinMaxScaler)"
   ]
  },
  {
   "cell_type": "code",
   "execution_count": 14,
   "id": "239e3344",
   "metadata": {},
   "outputs": [],
   "source": [
    "scaler = MinMaxScaler()"
   ]
  },
  {
   "cell_type": "code",
   "execution_count": 15,
   "id": "b50a6bbd",
   "metadata": {},
   "outputs": [
    {
     "data": {
      "text/plain": [
       "MinMaxScaler()"
      ]
     },
     "execution_count": 15,
     "metadata": {},
     "output_type": "execute_result"
    }
   ],
   "source": [
    "scaler.fit(X_train)"
   ]
  },
  {
   "cell_type": "code",
   "execution_count": 16,
   "id": "a6f6540f",
   "metadata": {},
   "outputs": [],
   "source": [
    "X_train_scaled = scaler.transform(X_train)\n",
    "X_test_scaled = scaler.transform(X_test)"
   ]
  },
  {
   "cell_type": "code",
   "execution_count": 17,
   "id": "ac1936a5",
   "metadata": {},
   "outputs": [
    {
     "data": {
      "text/plain": [
       "array([[0.74046017, 0.32583248],\n",
       "       [0.43166001, 0.2555088 ],\n",
       "       [0.18468554, 0.70500664],\n",
       "       [0.52955895, 0.93551377],\n",
       "       [0.52907398, 0.39249753]])"
      ]
     },
     "execution_count": 17,
     "metadata": {},
     "output_type": "execute_result"
    }
   ],
   "source": [
    "X_train_scaled[:5]"
   ]
  },
  {
   "cell_type": "code",
   "execution_count": 18,
   "id": "7a82b826",
   "metadata": {},
   "outputs": [],
   "source": [
    "from tensorflow.keras.models import Sequential\n",
    "from tensorflow.keras.layers import Dense, Activation"
   ]
  },
  {
   "cell_type": "markdown",
   "id": "b5f27ab8",
   "metadata": {},
   "source": [
    "Dense Layer - Densely connected NN layer, where every neuron is connected to every other neuron in the layer.\n",
    "Dense Paramters\n",
    "* unit - no of neurons\n",
    "* activation - activation function"
   ]
  },
  {
   "cell_type": "code",
   "execution_count": 19,
   "id": "5cebd31c",
   "metadata": {},
   "outputs": [],
   "source": [
    "# Method 1 \n",
    "# Create a model along with Layer info\n",
    "model = Sequential([\n",
    "    Dense(4, activation='relu'),\n",
    "    Dense(2, activation='relu'),\n",
    "    Dense(1)  #output layer\n",
    "])"
   ]
  },
  {
   "cell_type": "code",
   "execution_count": 41,
   "id": "96f4e566",
   "metadata": {},
   "outputs": [],
   "source": [
    "# Method 2\n",
    "# Create an empty model\n",
    "model = Sequential()\n",
    "\n",
    "# Add layers\n",
    "model.add(Dense(4,activation='relu'))\n",
    "model.add(Dense(4,activation='relu'))\n",
    "model.add(Dense(4,activation='relu'))\n",
    "\n",
    "# Final output node for prediction\n",
    "model.add(Dense(1))\n",
    "\n",
    "model.compile(optimizer='rmsprop',loss='mse')"
   ]
  },
  {
   "cell_type": "markdown",
   "id": "a420d16b",
   "metadata": {},
   "source": [
    "Last step in setting up a nn/w is Compile the n/w with optimizer and loss func\n",
    "* For a multiclass classification, use\n",
    "    * Optimizer = 'rmsprop'\n",
    "    * loss = 'categorical_crossentropy'\n",
    "    * metrics = ['accuracy']\n",
    "    \n",
    "* For binary classification, use\n",
    "    * Optimizer = 'rmsprop'\n",
    "    * loss = 'binary_crossentropy'\n",
    "    * metrics = ['accuracy']\n",
    "    \n",
    "* For regression problem, use\n",
    "    * Optimizer = 'rmsprop'\n",
    "    * loss = 'mse'"
   ]
  },
  {
   "cell_type": "code",
   "execution_count": 42,
   "id": "a6799fdc",
   "metadata": {},
   "outputs": [
    {
     "name": "stdout",
     "output_type": "stream",
     "text": [
      "Epoch 1/250\n",
      "22/22 [==============================] - 0s 1ms/step - loss: 256614.6719\n",
      "Epoch 2/250\n",
      "22/22 [==============================] - 0s 1ms/step - loss: 256536.7344\n",
      "Epoch 3/250\n",
      "22/22 [==============================] - 0s 1ms/step - loss: 256414.4688\n",
      "Epoch 4/250\n",
      "22/22 [==============================] - 0s 1ms/step - loss: 256272.2969\n",
      "Epoch 5/250\n",
      "22/22 [==============================] - 0s 1ms/step - loss: 256105.4375\n",
      "Epoch 6/250\n",
      "22/22 [==============================] - 0s 1ms/step - loss: 255910.7812\n",
      "Epoch 7/250\n",
      "22/22 [==============================] - 0s 2ms/step - loss: 255683.4531\n",
      "Epoch 8/250\n",
      "22/22 [==============================] - 0s 1ms/step - loss: 255423.3125\n",
      "Epoch 9/250\n",
      "22/22 [==============================] - 0s 1ms/step - loss: 255123.5156\n",
      "Epoch 10/250\n",
      "22/22 [==============================] - 0s 1ms/step - loss: 254784.9219\n",
      "Epoch 11/250\n",
      "22/22 [==============================] - 0s 1ms/step - loss: 254401.7656\n",
      "Epoch 12/250\n",
      "22/22 [==============================] - 0s 1ms/step - loss: 253971.2656\n",
      "Epoch 13/250\n",
      "22/22 [==============================] - 0s 2ms/step - loss: 253486.2188\n",
      "Epoch 14/250\n",
      "22/22 [==============================] - 0s 1ms/step - loss: 252938.1875\n",
      "Epoch 15/250\n",
      "22/22 [==============================] - 0s 903us/step - loss: 252324.9844\n",
      "Epoch 16/250\n",
      "22/22 [==============================] - 0s 1ms/step - loss: 251642.7500\n",
      "Epoch 17/250\n",
      "22/22 [==============================] - 0s 1ms/step - loss: 250884.7812\n",
      "Epoch 18/250\n",
      "22/22 [==============================] - 0s 1ms/step - loss: 250046.6094\n",
      "Epoch 19/250\n",
      "22/22 [==============================] - 0s 2ms/step - loss: 249123.2656\n",
      "Epoch 20/250\n",
      "22/22 [==============================] - 0s 2ms/step - loss: 248112.5312\n",
      "Epoch 21/250\n",
      "22/22 [==============================] - 0s 1ms/step - loss: 247001.3281\n",
      "Epoch 22/250\n",
      "22/22 [==============================] - 0s 2ms/step - loss: 245786.2812\n",
      "Epoch 23/250\n",
      "22/22 [==============================] - 0s 2ms/step - loss: 244459.5938\n",
      "Epoch 24/250\n",
      "22/22 [==============================] - 0s 2ms/step - loss: 243039.0469\n",
      "Epoch 25/250\n",
      "22/22 [==============================] - 0s 2ms/step - loss: 241492.3594\n",
      "Epoch 26/250\n",
      "22/22 [==============================] - 0s 2ms/step - loss: 239818.1250\n",
      "Epoch 27/250\n",
      "22/22 [==============================] - 0s 2ms/step - loss: 238014.2188\n",
      "Epoch 28/250\n",
      "22/22 [==============================] - 0s 1ms/step - loss: 236072.0156\n",
      "Epoch 29/250\n",
      "22/22 [==============================] - 0s 1ms/step - loss: 234005.4375\n",
      "Epoch 30/250\n",
      "22/22 [==============================] - 0s 1ms/step - loss: 231762.1719\n",
      "Epoch 31/250\n",
      "22/22 [==============================] - 0s 2ms/step - loss: 229389.6875\n",
      "Epoch 32/250\n",
      "22/22 [==============================] - 0s 2ms/step - loss: 226856.2969\n",
      "Epoch 33/250\n",
      "22/22 [==============================] - 0s 2ms/step - loss: 224074.6094\n",
      "Epoch 34/250\n",
      "22/22 [==============================] - 0s 3ms/step - loss: 221126.4688\n",
      "Epoch 35/250\n",
      "22/22 [==============================] - 0s 2ms/step - loss: 217962.3750\n",
      "Epoch 36/250\n",
      "22/22 [==============================] - 0s 2ms/step - loss: 214603.7500\n",
      "Epoch 37/250\n",
      "22/22 [==============================] - 0s 2ms/step - loss: 211029.7656\n",
      "Epoch 38/250\n",
      "22/22 [==============================] - 0s 2ms/step - loss: 207273.8125\n",
      "Epoch 39/250\n",
      "22/22 [==============================] - 0s 2ms/step - loss: 203284.0625\n",
      "Epoch 40/250\n",
      "22/22 [==============================] - 0s 2ms/step - loss: 199047.0625\n",
      "Epoch 41/250\n",
      "22/22 [==============================] - 0s 1ms/step - loss: 194617.1719\n",
      "Epoch 42/250\n",
      "22/22 [==============================] - 0s 2ms/step - loss: 189973.7656\n",
      "Epoch 43/250\n",
      "22/22 [==============================] - 0s 2ms/step - loss: 185091.2188\n",
      "Epoch 44/250\n",
      "22/22 [==============================] - 0s 2ms/step - loss: 179989.0469\n",
      "Epoch 45/250\n",
      "22/22 [==============================] - 0s 2ms/step - loss: 174686.7500\n",
      "Epoch 46/250\n",
      "22/22 [==============================] - 0s 2ms/step - loss: 169106.9844\n",
      "Epoch 47/250\n",
      "22/22 [==============================] - 0s 1ms/step - loss: 163327.1719\n",
      "Epoch 48/250\n",
      "22/22 [==============================] - 0s 2ms/step - loss: 157335.4062\n",
      "Epoch 49/250\n",
      "22/22 [==============================] - 0s 2ms/step - loss: 151183.8438\n",
      "Epoch 50/250\n",
      "22/22 [==============================] - 0s 2ms/step - loss: 144820.7031\n",
      "Epoch 51/250\n",
      "22/22 [==============================] - 0s 2ms/step - loss: 138239.1250\n",
      "Epoch 52/250\n",
      "22/22 [==============================] - 0s 2ms/step - loss: 131484.4062\n",
      "Epoch 53/250\n",
      "22/22 [==============================] - 0s 1ms/step - loss: 124600.3438\n",
      "Epoch 54/250\n",
      "22/22 [==============================] - 0s 2ms/step - loss: 117556.2969\n",
      "Epoch 55/250\n",
      "22/22 [==============================] - 0s 2ms/step - loss: 110413.3750\n",
      "Epoch 56/250\n",
      "22/22 [==============================] - 0s 2ms/step - loss: 103210.8125\n",
      "Epoch 57/250\n",
      "22/22 [==============================] - 0s 2ms/step - loss: 95891.6094\n",
      "Epoch 58/250\n",
      "22/22 [==============================] - 0s 2ms/step - loss: 88522.1016\n",
      "Epoch 59/250\n",
      "22/22 [==============================] - 0s 2ms/step - loss: 81150.9219\n",
      "Epoch 60/250\n",
      "22/22 [==============================] - 0s 1ms/step - loss: 73779.2578\n",
      "Epoch 61/250\n",
      "22/22 [==============================] - 0s 1ms/step - loss: 66538.4297\n",
      "Epoch 62/250\n",
      "22/22 [==============================] - 0s 1ms/step - loss: 59392.4609\n",
      "Epoch 63/250\n",
      "22/22 [==============================] - 0s 2ms/step - loss: 52390.4531\n",
      "Epoch 64/250\n",
      "22/22 [==============================] - 0s 1ms/step - loss: 45579.2031\n",
      "Epoch 65/250\n",
      "22/22 [==============================] - 0s 1ms/step - loss: 39045.9375\n",
      "Epoch 66/250\n",
      "22/22 [==============================] - 0s 1ms/step - loss: 32835.5000\n",
      "Epoch 67/250\n",
      "22/22 [==============================] - 0s 1ms/step - loss: 26977.4180\n",
      "Epoch 68/250\n",
      "22/22 [==============================] - 0s 1ms/step - loss: 21635.2324\n",
      "Epoch 69/250\n",
      "22/22 [==============================] - 0s 1ms/step - loss: 16775.3887\n",
      "Epoch 70/250\n",
      "22/22 [==============================] - 0s 1ms/step - loss: 12499.5186\n",
      "Epoch 71/250\n",
      "22/22 [==============================] - 0s 1ms/step - loss: 8879.0654\n",
      "Epoch 72/250\n",
      "22/22 [==============================] - 0s 1ms/step - loss: 6014.7715\n",
      "Epoch 73/250\n",
      "22/22 [==============================] - 0s 1ms/step - loss: 3924.3560\n",
      "Epoch 74/250\n",
      "22/22 [==============================] - 0s 1ms/step - loss: 2629.9180\n",
      "Epoch 75/250\n",
      "22/22 [==============================] - 0s 1ms/step - loss: 2045.8982\n",
      "Epoch 76/250\n",
      "22/22 [==============================] - 0s 998us/step - loss: 1911.0942\n",
      "Epoch 77/250\n",
      "22/22 [==============================] - 0s 1ms/step - loss: 1868.4952\n",
      "Epoch 78/250\n",
      "22/22 [==============================] - 0s 1ms/step - loss: 1831.9875\n",
      "Epoch 79/250\n",
      "22/22 [==============================] - 0s 1ms/step - loss: 1791.2129\n",
      "Epoch 80/250\n",
      "22/22 [==============================] - 0s 1ms/step - loss: 1759.3529\n",
      "Epoch 81/250\n",
      "22/22 [==============================] - 0s 1ms/step - loss: 1717.8894\n",
      "Epoch 82/250\n",
      "22/22 [==============================] - 0s 1ms/step - loss: 1677.8376\n",
      "Epoch 83/250\n",
      "22/22 [==============================] - 0s 1ms/step - loss: 1643.2402\n",
      "Epoch 84/250\n",
      "22/22 [==============================] - 0s 1ms/step - loss: 1602.2200\n",
      "Epoch 85/250\n",
      "22/22 [==============================] - 0s 1ms/step - loss: 1565.3575\n",
      "Epoch 86/250\n",
      "22/22 [==============================] - 0s 1ms/step - loss: 1524.9480\n",
      "Epoch 87/250\n",
      "22/22 [==============================] - 0s 848us/step - loss: 1491.1982\n",
      "Epoch 88/250\n",
      "22/22 [==============================] - 0s 981us/step - loss: 1450.8921\n",
      "Epoch 89/250\n",
      "22/22 [==============================] - 0s 1ms/step - loss: 1420.3535\n",
      "Epoch 90/250\n",
      "22/22 [==============================] - 0s 840us/step - loss: 1381.9735\n",
      "Epoch 91/250\n",
      "22/22 [==============================] - 0s 972us/step - loss: 1346.8975\n",
      "Epoch 92/250\n",
      "22/22 [==============================] - 0s 850us/step - loss: 1309.8186\n",
      "Epoch 93/250\n",
      "22/22 [==============================] - 0s 772us/step - loss: 1278.5465\n",
      "Epoch 94/250\n",
      "22/22 [==============================] - 0s 1ms/step - loss: 1246.2711\n",
      "Epoch 95/250\n",
      "22/22 [==============================] - 0s 1ms/step - loss: 1214.6255\n",
      "Epoch 96/250\n",
      "22/22 [==============================] - 0s 1ms/step - loss: 1178.8442\n"
     ]
    },
    {
     "name": "stdout",
     "output_type": "stream",
     "text": [
      "Epoch 97/250\n",
      "22/22 [==============================] - 0s 1ms/step - loss: 1147.6649\n",
      "Epoch 98/250\n",
      "22/22 [==============================] - 0s 1ms/step - loss: 1114.8572\n",
      "Epoch 99/250\n",
      "22/22 [==============================] - 0s 1ms/step - loss: 1083.2467\n",
      "Epoch 100/250\n",
      "22/22 [==============================] - 0s 1ms/step - loss: 1050.3379\n",
      "Epoch 101/250\n",
      "22/22 [==============================] - 0s 1ms/step - loss: 1017.3754\n",
      "Epoch 102/250\n",
      "22/22 [==============================] - 0s 1ms/step - loss: 985.3239\n",
      "Epoch 103/250\n",
      "22/22 [==============================] - 0s 899us/step - loss: 956.5341\n",
      "Epoch 104/250\n",
      "22/22 [==============================] - 0s 1ms/step - loss: 927.0742\n",
      "Epoch 105/250\n",
      "22/22 [==============================] - 0s 911us/step - loss: 894.0193\n",
      "Epoch 106/250\n",
      "22/22 [==============================] - 0s 1ms/step - loss: 867.5393\n",
      "Epoch 107/250\n",
      "22/22 [==============================] - 0s 1ms/step - loss: 836.3752\n",
      "Epoch 108/250\n",
      "22/22 [==============================] - 0s 1ms/step - loss: 808.8034\n",
      "Epoch 109/250\n",
      "22/22 [==============================] - 0s 1ms/step - loss: 780.9786\n",
      "Epoch 110/250\n",
      "22/22 [==============================] - 0s 1ms/step - loss: 753.4523\n",
      "Epoch 111/250\n",
      "22/22 [==============================] - 0s 1ms/step - loss: 726.1015\n",
      "Epoch 112/250\n",
      "22/22 [==============================] - 0s 1ms/step - loss: 696.5207\n",
      "Epoch 113/250\n",
      "22/22 [==============================] - 0s 988us/step - loss: 667.6135\n",
      "Epoch 114/250\n",
      "22/22 [==============================] - 0s 1ms/step - loss: 639.8713\n",
      "Epoch 115/250\n",
      "22/22 [==============================] - 0s 1ms/step - loss: 614.7401\n",
      "Epoch 116/250\n",
      "22/22 [==============================] - 0s 1ms/step - loss: 588.0017\n",
      "Epoch 117/250\n",
      "22/22 [==============================] - 0s 1ms/step - loss: 562.2903\n",
      "Epoch 118/250\n",
      "22/22 [==============================] - 0s 1ms/step - loss: 539.1553\n",
      "Epoch 119/250\n",
      "22/22 [==============================] - 0s 965us/step - loss: 514.3214\n",
      "Epoch 120/250\n",
      "22/22 [==============================] - 0s 930us/step - loss: 491.2701\n",
      "Epoch 121/250\n",
      "22/22 [==============================] - 0s 1ms/step - loss: 468.5607\n",
      "Epoch 122/250\n",
      "22/22 [==============================] - 0s 986us/step - loss: 445.8662\n",
      "Epoch 123/250\n",
      "22/22 [==============================] - 0s 1ms/step - loss: 424.9424\n",
      "Epoch 124/250\n",
      "22/22 [==============================] - 0s 1ms/step - loss: 403.8647\n",
      "Epoch 125/250\n",
      "22/22 [==============================] - 0s 1ms/step - loss: 381.8865\n",
      "Epoch 126/250\n",
      "22/22 [==============================] - 0s 2ms/step - loss: 361.2249\n",
      "Epoch 127/250\n",
      "22/22 [==============================] - 0s 2ms/step - loss: 340.6736\n",
      "Epoch 128/250\n",
      "22/22 [==============================] - 0s 2ms/step - loss: 320.2786\n",
      "Epoch 129/250\n",
      "22/22 [==============================] - 0s 1ms/step - loss: 304.4769\n",
      "Epoch 130/250\n",
      "22/22 [==============================] - 0s 2ms/step - loss: 285.5856\n",
      "Epoch 131/250\n",
      "22/22 [==============================] - 0s 2ms/step - loss: 266.4184\n",
      "Epoch 132/250\n",
      "22/22 [==============================] - 0s 1ms/step - loss: 249.0035\n",
      "Epoch 133/250\n",
      "22/22 [==============================] - 0s 1ms/step - loss: 231.2823\n",
      "Epoch 134/250\n",
      "22/22 [==============================] - 0s 956us/step - loss: 218.7098\n",
      "Epoch 135/250\n",
      "22/22 [==============================] - 0s 1ms/step - loss: 204.5822\n",
      "Epoch 136/250\n",
      "22/22 [==============================] - 0s 940us/step - loss: 190.5628\n",
      "Epoch 137/250\n",
      "22/22 [==============================] - 0s 901us/step - loss: 178.6553\n",
      "Epoch 138/250\n",
      "22/22 [==============================] - 0s 1ms/step - loss: 165.1648\n",
      "Epoch 139/250\n",
      "22/22 [==============================] - 0s 2ms/step - loss: 153.4154\n",
      "Epoch 140/250\n",
      "22/22 [==============================] - 0s 2ms/step - loss: 142.1386\n",
      "Epoch 141/250\n",
      "22/22 [==============================] - 0s 2ms/step - loss: 132.5182\n",
      "Epoch 142/250\n",
      "22/22 [==============================] - 0s 1ms/step - loss: 121.0530\n",
      "Epoch 143/250\n",
      "22/22 [==============================] - 0s 1ms/step - loss: 112.4668\n",
      "Epoch 144/250\n",
      "22/22 [==============================] - 0s 916us/step - loss: 102.6255\n",
      "Epoch 145/250\n",
      "22/22 [==============================] - 0s 917us/step - loss: 94.1270\n",
      "Epoch 146/250\n",
      "22/22 [==============================] - 0s 992us/step - loss: 86.0561\n",
      "Epoch 147/250\n",
      "22/22 [==============================] - 0s 839us/step - loss: 78.6515\n",
      "Epoch 148/250\n",
      "22/22 [==============================] - 0s 973us/step - loss: 72.0510\n",
      "Epoch 149/250\n",
      "22/22 [==============================] - 0s 868us/step - loss: 65.5298\n",
      "Epoch 150/250\n",
      "22/22 [==============================] - 0s 984us/step - loss: 61.4879\n",
      "Epoch 151/250\n",
      "22/22 [==============================] - 0s 1ms/step - loss: 56.0643\n",
      "Epoch 152/250\n",
      "22/22 [==============================] - 0s 996us/step - loss: 51.6388\n",
      "Epoch 153/250\n",
      "22/22 [==============================] - 0s 994us/step - loss: 47.9095\n",
      "Epoch 154/250\n",
      "22/22 [==============================] - 0s 1ms/step - loss: 44.4668\n",
      "Epoch 155/250\n",
      "22/22 [==============================] - 0s 907us/step - loss: 41.6410\n",
      "Epoch 156/250\n",
      "22/22 [==============================] - 0s 860us/step - loss: 39.1388\n",
      "Epoch 157/250\n",
      "22/22 [==============================] - 0s 931us/step - loss: 36.2004\n",
      "Epoch 158/250\n",
      "22/22 [==============================] - 0s 899us/step - loss: 34.2802\n",
      "Epoch 159/250\n",
      "22/22 [==============================] - 0s 958us/step - loss: 33.0547\n",
      "Epoch 160/250\n",
      "22/22 [==============================] - 0s 826us/step - loss: 31.8822\n",
      "Epoch 161/250\n",
      "22/22 [==============================] - 0s 938us/step - loss: 30.2074\n",
      "Epoch 162/250\n",
      "22/22 [==============================] - 0s 992us/step - loss: 29.6387\n",
      "Epoch 163/250\n",
      "22/22 [==============================] - 0s 938us/step - loss: 28.4945\n",
      "Epoch 164/250\n",
      "22/22 [==============================] - 0s 1ms/step - loss: 27.6757\n",
      "Epoch 165/250\n",
      "22/22 [==============================] - 0s 1ms/step - loss: 26.7820\n",
      "Epoch 166/250\n",
      "22/22 [==============================] - 0s 1ms/step - loss: 26.7403\n",
      "Epoch 167/250\n",
      "22/22 [==============================] - 0s 1ms/step - loss: 26.2423\n",
      "Epoch 168/250\n",
      "22/22 [==============================] - 0s 1ms/step - loss: 25.6737\n",
      "Epoch 169/250\n",
      "22/22 [==============================] - 0s 1ms/step - loss: 25.5217\n",
      "Epoch 170/250\n",
      "22/22 [==============================] - 0s 996us/step - loss: 25.4904\n",
      "Epoch 171/250\n",
      "22/22 [==============================] - 0s 991us/step - loss: 25.0329\n",
      "Epoch 172/250\n",
      "22/22 [==============================] - 0s 977us/step - loss: 25.4730\n",
      "Epoch 173/250\n",
      "22/22 [==============================] - 0s 985us/step - loss: 24.8268\n",
      "Epoch 174/250\n",
      "22/22 [==============================] - 0s 1ms/step - loss: 24.6073\n",
      "Epoch 175/250\n",
      "22/22 [==============================] - 0s 1ms/step - loss: 24.9435\n",
      "Epoch 176/250\n",
      "22/22 [==============================] - 0s 984us/step - loss: 24.1473\n",
      "Epoch 177/250\n",
      "22/22 [==============================] - 0s 1ms/step - loss: 24.8032\n",
      "Epoch 178/250\n",
      "22/22 [==============================] - 0s 1ms/step - loss: 24.4814\n",
      "Epoch 179/250\n",
      "22/22 [==============================] - 0s 1ms/step - loss: 24.3768\n",
      "Epoch 180/250\n",
      "22/22 [==============================] - 0s 1ms/step - loss: 24.2233\n",
      "Epoch 181/250\n",
      "22/22 [==============================] - 0s 1ms/step - loss: 24.5320\n",
      "Epoch 182/250\n",
      "22/22 [==============================] - 0s 1ms/step - loss: 24.8843\n",
      "Epoch 183/250\n",
      "22/22 [==============================] - 0s 1ms/step - loss: 24.3781\n",
      "Epoch 184/250\n",
      "22/22 [==============================] - 0s 1ms/step - loss: 24.3679\n",
      "Epoch 185/250\n",
      "22/22 [==============================] - 0s 768us/step - loss: 24.4893\n",
      "Epoch 186/250\n",
      "22/22 [==============================] - 0s 929us/step - loss: 24.5386\n",
      "Epoch 187/250\n",
      "22/22 [==============================] - 0s 1ms/step - loss: 24.1065\n",
      "Epoch 188/250\n",
      "22/22 [==============================] - 0s 1ms/step - loss: 24.5879\n",
      "Epoch 189/250\n",
      "22/22 [==============================] - 0s 955us/step - loss: 24.0794\n",
      "Epoch 190/250\n",
      "22/22 [==============================] - 0s 1ms/step - loss: 24.5100\n",
      "Epoch 191/250\n",
      "22/22 [==============================] - 0s 1ms/step - loss: 24.3709\n",
      "Epoch 192/250\n",
      "22/22 [==============================] - 0s 1ms/step - loss: 24.2667\n",
      "Epoch 193/250\n",
      "22/22 [==============================] - 0s 1ms/step - loss: 24.1732\n",
      "Epoch 194/250\n"
     ]
    },
    {
     "name": "stdout",
     "output_type": "stream",
     "text": [
      "22/22 [==============================] - 0s 838us/step - loss: 24.9005\n",
      "Epoch 195/250\n",
      "22/22 [==============================] - 0s 941us/step - loss: 24.5228\n",
      "Epoch 196/250\n",
      "22/22 [==============================] - 0s 997us/step - loss: 24.1547\n",
      "Epoch 197/250\n",
      "22/22 [==============================] - 0s 943us/step - loss: 24.3666\n",
      "Epoch 198/250\n",
      "22/22 [==============================] - 0s 1ms/step - loss: 24.6860\n",
      "Epoch 199/250\n",
      "22/22 [==============================] - 0s 919us/step - loss: 24.0465\n",
      "Epoch 200/250\n",
      "22/22 [==============================] - 0s 909us/step - loss: 24.4942\n",
      "Epoch 201/250\n",
      "22/22 [==============================] - 0s 958us/step - loss: 24.4226\n",
      "Epoch 202/250\n",
      "22/22 [==============================] - 0s 921us/step - loss: 24.3675\n",
      "Epoch 203/250\n",
      "22/22 [==============================] - 0s 1ms/step - loss: 24.4627\n",
      "Epoch 204/250\n",
      "22/22 [==============================] - 0s 930us/step - loss: 24.5688\n",
      "Epoch 205/250\n",
      "22/22 [==============================] - 0s 998us/step - loss: 24.3954\n",
      "Epoch 206/250\n",
      "22/22 [==============================] - 0s 997us/step - loss: 24.8466\n",
      "Epoch 207/250\n",
      "22/22 [==============================] - 0s 1ms/step - loss: 24.1025\n",
      "Epoch 208/250\n",
      "22/22 [==============================] - 0s 1ms/step - loss: 24.3274\n",
      "Epoch 209/250\n",
      "22/22 [==============================] - 0s 938us/step - loss: 24.6939\n",
      "Epoch 210/250\n",
      "22/22 [==============================] - 0s 1ms/step - loss: 24.6767\n",
      "Epoch 211/250\n",
      "22/22 [==============================] - 0s 949us/step - loss: 24.2607\n",
      "Epoch 212/250\n",
      "22/22 [==============================] - 0s 1ms/step - loss: 24.8387\n",
      "Epoch 213/250\n",
      "22/22 [==============================] - 0s 1ms/step - loss: 24.1565\n",
      "Epoch 214/250\n",
      "22/22 [==============================] - 0s 855us/step - loss: 24.3106\n",
      "Epoch 215/250\n",
      "22/22 [==============================] - 0s 984us/step - loss: 24.6690\n",
      "Epoch 216/250\n",
      "22/22 [==============================] - 0s 1ms/step - loss: 24.2997\n",
      "Epoch 217/250\n",
      "22/22 [==============================] - 0s 850us/step - loss: 24.3059\n",
      "Epoch 218/250\n",
      "22/22 [==============================] - 0s 1ms/step - loss: 24.3913\n",
      "Epoch 219/250\n",
      "22/22 [==============================] - 0s 956us/step - loss: 24.4212\n",
      "Epoch 220/250\n",
      "22/22 [==============================] - 0s 1ms/step - loss: 24.3213\n",
      "Epoch 221/250\n",
      "22/22 [==============================] - 0s 1ms/step - loss: 23.7414\n",
      "Epoch 222/250\n",
      "22/22 [==============================] - 0s 1ms/step - loss: 24.4948\n",
      "Epoch 223/250\n",
      "22/22 [==============================] - 0s 1ms/step - loss: 24.5945\n",
      "Epoch 224/250\n",
      "22/22 [==============================] - 0s 1ms/step - loss: 24.4347\n",
      "Epoch 225/250\n",
      "22/22 [==============================] - 0s 1ms/step - loss: 24.3212\n",
      "Epoch 226/250\n",
      "22/22 [==============================] - 0s 920us/step - loss: 24.3696\n",
      "Epoch 227/250\n",
      "22/22 [==============================] - 0s 1ms/step - loss: 24.3691\n",
      "Epoch 228/250\n",
      "22/22 [==============================] - 0s 1ms/step - loss: 24.6495\n",
      "Epoch 229/250\n",
      "22/22 [==============================] - 0s 1ms/step - loss: 24.4718\n",
      "Epoch 230/250\n",
      "22/22 [==============================] - 0s 1ms/step - loss: 24.1351\n",
      "Epoch 231/250\n",
      "22/22 [==============================] - 0s 1ms/step - loss: 24.3975\n",
      "Epoch 232/250\n",
      "22/22 [==============================] - 0s 1ms/step - loss: 24.2314\n",
      "Epoch 233/250\n",
      "22/22 [==============================] - 0s 1ms/step - loss: 25.0209\n",
      "Epoch 234/250\n",
      "22/22 [==============================] - 0s 1ms/step - loss: 24.3713\n",
      "Epoch 235/250\n",
      "22/22 [==============================] - 0s 950us/step - loss: 24.7208\n",
      "Epoch 236/250\n",
      "22/22 [==============================] - 0s 1ms/step - loss: 24.5422\n",
      "Epoch 237/250\n",
      "22/22 [==============================] - 0s 961us/step - loss: 24.4205\n",
      "Epoch 238/250\n",
      "22/22 [==============================] - 0s 1ms/step - loss: 23.9822\n",
      "Epoch 239/250\n",
      "22/22 [==============================] - 0s 1ms/step - loss: 24.0246\n",
      "Epoch 240/250\n",
      "22/22 [==============================] - 0s 1ms/step - loss: 24.6000\n",
      "Epoch 241/250\n",
      "22/22 [==============================] - 0s 1ms/step - loss: 24.6247\n",
      "Epoch 242/250\n",
      "22/22 [==============================] - 0s 981us/step - loss: 24.6734\n",
      "Epoch 243/250\n",
      "22/22 [==============================] - 0s 1ms/step - loss: 24.4362\n",
      "Epoch 244/250\n",
      "22/22 [==============================] - 0s 1ms/step - loss: 24.8149\n",
      "Epoch 245/250\n",
      "22/22 [==============================] - 0s 1ms/step - loss: 24.6856\n",
      "Epoch 246/250\n",
      "22/22 [==============================] - 0s 1ms/step - loss: 24.8965\n",
      "Epoch 247/250\n",
      "22/22 [==============================] - 0s 982us/step - loss: 24.6536\n",
      "Epoch 248/250\n",
      "22/22 [==============================] - 0s 1ms/step - loss: 24.3926\n",
      "Epoch 249/250\n",
      "22/22 [==============================] - 0s 1ms/step - loss: 24.0766\n",
      "Epoch 250/250\n",
      "22/22 [==============================] - 0s 1ms/step - loss: 24.3259\n"
     ]
    },
    {
     "data": {
      "text/plain": [
       "<tensorflow.python.keras.callbacks.History at 0x152c5dbe0>"
      ]
     },
     "execution_count": 42,
     "metadata": {},
     "output_type": "execute_result"
    }
   ],
   "source": [
    "# Train the model\n",
    "# verbose = 0 - no outputs\n",
    "model.fit(x=X_train_scaled, y=y_train, epochs=250)"
   ]
  },
  {
   "cell_type": "markdown",
   "id": "d4c8b9a1",
   "metadata": {},
   "source": [
    "## Training History"
   ]
  },
  {
   "cell_type": "code",
   "execution_count": 43,
   "id": "78a6944d",
   "metadata": {},
   "outputs": [
    {
     "data": {
      "text/plain": [
       "{'loss': [256614.671875,\n",
       "  256536.734375,\n",
       "  256414.46875,\n",
       "  256272.296875,\n",
       "  256105.4375,\n",
       "  255910.78125,\n",
       "  255683.453125,\n",
       "  255423.3125,\n",
       "  255123.515625,\n",
       "  254784.921875,\n",
       "  254401.765625,\n",
       "  253971.265625,\n",
       "  253486.21875,\n",
       "  252938.1875,\n",
       "  252324.984375,\n",
       "  251642.75,\n",
       "  250884.78125,\n",
       "  250046.609375,\n",
       "  249123.265625,\n",
       "  248112.53125,\n",
       "  247001.328125,\n",
       "  245786.28125,\n",
       "  244459.59375,\n",
       "  243039.046875,\n",
       "  241492.359375,\n",
       "  239818.125,\n",
       "  238014.21875,\n",
       "  236072.015625,\n",
       "  234005.4375,\n",
       "  231762.171875,\n",
       "  229389.6875,\n",
       "  226856.296875,\n",
       "  224074.609375,\n",
       "  221126.46875,\n",
       "  217962.375,\n",
       "  214603.75,\n",
       "  211029.765625,\n",
       "  207273.8125,\n",
       "  203284.0625,\n",
       "  199047.0625,\n",
       "  194617.171875,\n",
       "  189973.765625,\n",
       "  185091.21875,\n",
       "  179989.046875,\n",
       "  174686.75,\n",
       "  169106.984375,\n",
       "  163327.171875,\n",
       "  157335.40625,\n",
       "  151183.84375,\n",
       "  144820.703125,\n",
       "  138239.125,\n",
       "  131484.40625,\n",
       "  124600.34375,\n",
       "  117556.296875,\n",
       "  110413.375,\n",
       "  103210.8125,\n",
       "  95891.609375,\n",
       "  88522.1015625,\n",
       "  81150.921875,\n",
       "  73779.2578125,\n",
       "  66538.4296875,\n",
       "  59392.4609375,\n",
       "  52390.453125,\n",
       "  45579.203125,\n",
       "  39045.9375,\n",
       "  32835.5,\n",
       "  26977.41796875,\n",
       "  21635.232421875,\n",
       "  16775.388671875,\n",
       "  12499.5185546875,\n",
       "  8879.0654296875,\n",
       "  6014.771484375,\n",
       "  3924.35595703125,\n",
       "  2629.91796875,\n",
       "  2045.898193359375,\n",
       "  1911.09423828125,\n",
       "  1868.4952392578125,\n",
       "  1831.987548828125,\n",
       "  1791.212890625,\n",
       "  1759.3529052734375,\n",
       "  1717.889404296875,\n",
       "  1677.837646484375,\n",
       "  1643.240234375,\n",
       "  1602.219970703125,\n",
       "  1565.3575439453125,\n",
       "  1524.947998046875,\n",
       "  1491.1982421875,\n",
       "  1450.89208984375,\n",
       "  1420.353515625,\n",
       "  1381.9735107421875,\n",
       "  1346.8974609375,\n",
       "  1309.818603515625,\n",
       "  1278.5465087890625,\n",
       "  1246.2711181640625,\n",
       "  1214.62548828125,\n",
       "  1178.84423828125,\n",
       "  1147.6649169921875,\n",
       "  1114.857177734375,\n",
       "  1083.2467041015625,\n",
       "  1050.337890625,\n",
       "  1017.3753662109375,\n",
       "  985.3239135742188,\n",
       "  956.5341186523438,\n",
       "  927.07421875,\n",
       "  894.0193481445312,\n",
       "  867.539306640625,\n",
       "  836.375244140625,\n",
       "  808.8034057617188,\n",
       "  780.9786376953125,\n",
       "  753.4523315429688,\n",
       "  726.1015014648438,\n",
       "  696.5206909179688,\n",
       "  667.613525390625,\n",
       "  639.871337890625,\n",
       "  614.7401123046875,\n",
       "  588.001708984375,\n",
       "  562.2903442382812,\n",
       "  539.1553344726562,\n",
       "  514.3214111328125,\n",
       "  491.2700500488281,\n",
       "  468.5606689453125,\n",
       "  445.8662414550781,\n",
       "  424.9423522949219,\n",
       "  403.86474609375,\n",
       "  381.886474609375,\n",
       "  361.2249450683594,\n",
       "  340.6735534667969,\n",
       "  320.2785949707031,\n",
       "  304.47686767578125,\n",
       "  285.58563232421875,\n",
       "  266.4184265136719,\n",
       "  249.00352478027344,\n",
       "  231.28231811523438,\n",
       "  218.70982360839844,\n",
       "  204.58218383789062,\n",
       "  190.56280517578125,\n",
       "  178.65533447265625,\n",
       "  165.16482543945312,\n",
       "  153.4154052734375,\n",
       "  142.13856506347656,\n",
       "  132.5182342529297,\n",
       "  121.05299377441406,\n",
       "  112.4667739868164,\n",
       "  102.62553405761719,\n",
       "  94.12700653076172,\n",
       "  86.05606842041016,\n",
       "  78.6514663696289,\n",
       "  72.05097961425781,\n",
       "  65.52978515625,\n",
       "  61.487892150878906,\n",
       "  56.0643196105957,\n",
       "  51.63882827758789,\n",
       "  47.909515380859375,\n",
       "  44.46675109863281,\n",
       "  41.640987396240234,\n",
       "  39.138797760009766,\n",
       "  36.20042419433594,\n",
       "  34.280235290527344,\n",
       "  33.054664611816406,\n",
       "  31.882244110107422,\n",
       "  30.207386016845703,\n",
       "  29.638736724853516,\n",
       "  28.49445343017578,\n",
       "  27.6756649017334,\n",
       "  26.781991958618164,\n",
       "  26.74030113220215,\n",
       "  26.242271423339844,\n",
       "  25.673748016357422,\n",
       "  25.521713256835938,\n",
       "  25.490360260009766,\n",
       "  25.032901763916016,\n",
       "  25.472970962524414,\n",
       "  24.826751708984375,\n",
       "  24.60730743408203,\n",
       "  24.94350242614746,\n",
       "  24.147254943847656,\n",
       "  24.803203582763672,\n",
       "  24.48138427734375,\n",
       "  24.376771926879883,\n",
       "  24.22325325012207,\n",
       "  24.532039642333984,\n",
       "  24.884275436401367,\n",
       "  24.378124237060547,\n",
       "  24.367874145507812,\n",
       "  24.4892635345459,\n",
       "  24.538555145263672,\n",
       "  24.106536865234375,\n",
       "  24.58794593811035,\n",
       "  24.079404830932617,\n",
       "  24.51000213623047,\n",
       "  24.370920181274414,\n",
       "  24.266714096069336,\n",
       "  24.1732177734375,\n",
       "  24.900541305541992,\n",
       "  24.522764205932617,\n",
       "  24.15467071533203,\n",
       "  24.366567611694336,\n",
       "  24.686017990112305,\n",
       "  24.04649543762207,\n",
       "  24.494205474853516,\n",
       "  24.422626495361328,\n",
       "  24.36745834350586,\n",
       "  24.46274185180664,\n",
       "  24.568750381469727,\n",
       "  24.395362854003906,\n",
       "  24.84661293029785,\n",
       "  24.102510452270508,\n",
       "  24.32740020751953,\n",
       "  24.69386100769043,\n",
       "  24.676654815673828,\n",
       "  24.2607479095459,\n",
       "  24.838703155517578,\n",
       "  24.156526565551758,\n",
       "  24.310619354248047,\n",
       "  24.6689510345459,\n",
       "  24.29969596862793,\n",
       "  24.305898666381836,\n",
       "  24.391319274902344,\n",
       "  24.421205520629883,\n",
       "  24.32133674621582,\n",
       "  23.741439819335938,\n",
       "  24.49479866027832,\n",
       "  24.594459533691406,\n",
       "  24.43467140197754,\n",
       "  24.321199417114258,\n",
       "  24.369556427001953,\n",
       "  24.369081497192383,\n",
       "  24.649497985839844,\n",
       "  24.471776962280273,\n",
       "  24.13513946533203,\n",
       "  24.397510528564453,\n",
       "  24.231361389160156,\n",
       "  25.020915985107422,\n",
       "  24.371273040771484,\n",
       "  24.720848083496094,\n",
       "  24.542207717895508,\n",
       "  24.42046546936035,\n",
       "  23.982240676879883,\n",
       "  24.024587631225586,\n",
       "  24.59998893737793,\n",
       "  24.62465476989746,\n",
       "  24.673358917236328,\n",
       "  24.436241149902344,\n",
       "  24.814868927001953,\n",
       "  24.685565948486328,\n",
       "  24.8964786529541,\n",
       "  24.65355110168457,\n",
       "  24.392559051513672,\n",
       "  24.07664680480957,\n",
       "  24.325899124145508]}"
      ]
     },
     "execution_count": 43,
     "metadata": {},
     "output_type": "execute_result"
    }
   ],
   "source": [
    "model.history.history"
   ]
  },
  {
   "cell_type": "code",
   "execution_count": 44,
   "id": "4b9d377d",
   "metadata": {},
   "outputs": [],
   "source": [
    "# Plot the loss\n",
    "loss = pd.DataFrame(model.history.history)"
   ]
  },
  {
   "cell_type": "code",
   "execution_count": 45,
   "id": "05b951f1",
   "metadata": {},
   "outputs": [
    {
     "data": {
      "text/html": [
       "<div>\n",
       "<style scoped>\n",
       "    .dataframe tbody tr th:only-of-type {\n",
       "        vertical-align: middle;\n",
       "    }\n",
       "\n",
       "    .dataframe tbody tr th {\n",
       "        vertical-align: top;\n",
       "    }\n",
       "\n",
       "    .dataframe thead th {\n",
       "        text-align: right;\n",
       "    }\n",
       "</style>\n",
       "<table border=\"1\" class=\"dataframe\">\n",
       "  <thead>\n",
       "    <tr style=\"text-align: right;\">\n",
       "      <th></th>\n",
       "      <th>loss</th>\n",
       "    </tr>\n",
       "  </thead>\n",
       "  <tbody>\n",
       "    <tr>\n",
       "      <th>0</th>\n",
       "      <td>256614.671875</td>\n",
       "    </tr>\n",
       "    <tr>\n",
       "      <th>1</th>\n",
       "      <td>256536.734375</td>\n",
       "    </tr>\n",
       "    <tr>\n",
       "      <th>2</th>\n",
       "      <td>256414.468750</td>\n",
       "    </tr>\n",
       "    <tr>\n",
       "      <th>3</th>\n",
       "      <td>256272.296875</td>\n",
       "    </tr>\n",
       "    <tr>\n",
       "      <th>4</th>\n",
       "      <td>256105.437500</td>\n",
       "    </tr>\n",
       "  </tbody>\n",
       "</table>\n",
       "</div>"
      ],
      "text/plain": [
       "            loss\n",
       "0  256614.671875\n",
       "1  256536.734375\n",
       "2  256414.468750\n",
       "3  256272.296875\n",
       "4  256105.437500"
      ]
     },
     "execution_count": 45,
     "metadata": {},
     "output_type": "execute_result"
    }
   ],
   "source": [
    "loss.head()"
   ]
  },
  {
   "cell_type": "code",
   "execution_count": 46,
   "id": "45385165",
   "metadata": {},
   "outputs": [
    {
     "data": {
      "text/plain": [
       "<AxesSubplot:>"
      ]
     },
     "execution_count": 46,
     "metadata": {},
     "output_type": "execute_result"
    },
    {
     "data": {
      "image/png": "[encoded data removed]",
      "text/plain": [
       "<Figure size 432x288 with 1 Axes>"
      ]
     },
     "metadata": {
      "needs_background": "light"
     },
     "output_type": "display_data"
    }
   ],
   "source": [
    "loss.plot()"
   ]
  },
  {
   "cell_type": "code",
   "execution_count": 47,
   "id": "6e806888",
   "metadata": {},
   "outputs": [
    {
     "data": {
      "text/plain": [
       "[<tf.Variable 'dense_7/kernel:0' shape=(2, 4) dtype=float32, numpy=\n",
       " array([[1.8486862, 0.9508012, 1.7146415, 1.5297129],\n",
       "        [1.9366553, 3.2768397, 3.2730763, 3.5239537]], dtype=float32)>,\n",
       " <tf.Variable 'dense_7/bias:0' shape=(4,) dtype=float32, numpy=array([0.7543758 , 0.2492913 , 0.74429554, 0.7423399 ], dtype=float32)>,\n",
       " <tf.Variable 'dense_8/kernel:0' shape=(4, 4) dtype=float32, numpy=\n",
       " array([[-0.6278865 ,  2.053469  , -0.7466299 ,  1.5053056 ],\n",
       "        [-0.03383303,  2.1683397 , -0.7361147 ,  1.7595602 ],\n",
       "        [-0.05269527,  2.4356706 ,  0.01928967,  2.179152  ],\n",
       "        [ 0.05705908,  2.7446766 , -0.44290435,  2.368124  ]],\n",
       "       dtype=float32)>,\n",
       " <tf.Variable 'dense_8/bias:0' shape=(4,) dtype=float32, numpy=array([-0.01163805,  0.7257622 ,  0.        ,  0.73742044], dtype=float32)>,\n",
       " <tf.Variable 'dense_9/kernel:0' shape=(4, 4) dtype=float32, numpy=\n",
       " array([[-0.58118606, -0.09884762, -0.12502488, -0.39164656],\n",
       "        [ 0.5354415 ,  1.4769852 ,  2.0790029 , -0.13709277],\n",
       "        [-0.55290127,  0.21665233,  0.66606003,  0.1006726 ],\n",
       "        [ 1.8093349 ,  2.4034648 ,  1.842568  , -0.02256334]],\n",
       "       dtype=float32)>,\n",
       " <tf.Variable 'dense_9/bias:0' shape=(4,) dtype=float32, numpy=array([0.02619674, 0.6821188 , 0.7073371 , 0.        ], dtype=float32)>,\n",
       " <tf.Variable 'dense_10/kernel:0' shape=(4, 1) dtype=float32, numpy=\n",
       " array([[1.1890908 ],\n",
       "        [2.0561593 ],\n",
       "        [2.064291  ],\n",
       "        [0.07789397]], dtype=float32)>,\n",
       " <tf.Variable 'dense_10/bias:0' shape=(1,) dtype=float32, numpy=array([0.6911644], dtype=float32)>]"
      ]
     },
     "execution_count": 47,
     "metadata": {},
     "output_type": "execute_result"
    }
   ],
   "source": [
    "model.weights"
   ]
  },
  {
   "cell_type": "markdown",
   "id": "ca4a238d",
   "metadata": {},
   "source": [
    "## Model Evaluation"
   ]
  },
  {
   "cell_type": "code",
   "execution_count": 48,
   "id": "14fa9b55",
   "metadata": {},
   "outputs": [
    {
     "data": {
      "text/plain": [
       "26.616992950439453"
      ]
     },
     "execution_count": 48,
     "metadata": {},
     "output_type": "execute_result"
    }
   ],
   "source": [
    "model.evaluate(X_test_scaled, y_test, verbose=0)"
   ]
  },
  {
   "cell_type": "code",
   "execution_count": 49,
   "id": "be6548d7",
   "metadata": {},
   "outputs": [
    {
     "data": {
      "text/plain": [
       "26.726112365722656"
      ]
     },
     "execution_count": 49,
     "metadata": {},
     "output_type": "execute_result"
    }
   ],
   "source": [
    "model.evaluate(X_train_scaled, y_train, verbose=0)"
   ]
  },
  {
   "cell_type": "code",
   "execution_count": 50,
   "id": "1c742c67",
   "metadata": {},
   "outputs": [],
   "source": [
    "y_pred = model.predict(X_test_scaled)"
   ]
  },
  {
   "cell_type": "code",
   "execution_count": 78,
   "id": "d85bfe9b",
   "metadata": {},
   "outputs": [
    {
     "data": {
      "text/plain": [
       "404.06268"
      ]
     },
     "execution_count": 78,
     "metadata": {},
     "output_type": "execute_result"
    }
   ],
   "source": [
    "y_pred[0][0]"
   ]
  },
  {
   "cell_type": "code",
   "execution_count": 94,
   "id": "1c47e9e7",
   "metadata": {},
   "outputs": [],
   "source": [
    "pred_df = pd.DataFrame({\n",
    "    \"y_test\": y_test,\n",
    "    \"y_pred\": y_pred.reshape(300,)\n",
    "})"
   ]
  },
  {
   "cell_type": "code",
   "execution_count": 95,
   "id": "bcd31e9c",
   "metadata": {},
   "outputs": [],
   "source": [
    "pred_df[\"diff\"] = pred_df.y_test - pred_df.y_pred"
   ]
  },
  {
   "cell_type": "code",
   "execution_count": 96,
   "id": "582173da",
   "metadata": {},
   "outputs": [],
   "source": [
    "from sklearn.metrics import mean_absolute_error, mean_squared_error, r2_score\n"
   ]
  },
  {
   "cell_type": "code",
   "execution_count": 97,
   "id": "a0ec5e3b",
   "metadata": {},
   "outputs": [
    {
     "name": "stdout",
     "output_type": "stream",
     "text": [
      "MAE \t: 4.144658492768287\n",
      "MSE \t: 26.616999718895574\n",
      "RMSE \t: 5.1591665721214675\n",
      "RMSE \t: 5.1591665721214675\n"
     ]
    }
   ],
   "source": [
    "print(f\"MAE \\t: {mean_absolute_error(pred_df.y_test, pred_df.y_pred)}\")\n",
    "print(f\"MSE \\t: {mean_squared_error(pred_df.y_test, pred_df.y_pred)}\")\n",
    "print(f\"RMSE \\t: {mean_squared_error(pred_df.y_test, pred_df.y_pred)**0.5}\")\n",
    "print(f\"RMSE \\t: {np.sqrt(mean_squared_error(pred_df.y_test, pred_df.y_pred))}\")"
   ]
  },
  {
   "cell_type": "code",
   "execution_count": 98,
   "id": "9a08acc7",
   "metadata": {},
   "outputs": [
    {
     "data": {
      "text/html": [
       "<div>\n",
       "<style scoped>\n",
       "    .dataframe tbody tr th:only-of-type {\n",
       "        vertical-align: middle;\n",
       "    }\n",
       "\n",
       "    .dataframe tbody tr th {\n",
       "        vertical-align: top;\n",
       "    }\n",
       "\n",
       "    .dataframe thead th {\n",
       "        text-align: right;\n",
       "    }\n",
       "</style>\n",
       "<table border=\"1\" class=\"dataframe\">\n",
       "  <thead>\n",
       "    <tr style=\"text-align: right;\">\n",
       "      <th></th>\n",
       "      <th>y_test</th>\n",
       "      <th>y_pred</th>\n",
       "      <th>diff</th>\n",
       "    </tr>\n",
       "  </thead>\n",
       "  <tbody>\n",
       "    <tr>\n",
       "      <th>count</th>\n",
       "      <td>300.000000</td>\n",
       "      <td>300.000000</td>\n",
       "      <td>300.000000</td>\n",
       "    </tr>\n",
       "    <tr>\n",
       "      <th>mean</th>\n",
       "      <td>500.375339</td>\n",
       "      <td>499.062653</td>\n",
       "      <td>1.312698</td>\n",
       "    </tr>\n",
       "    <tr>\n",
       "      <th>std</th>\n",
       "      <td>93.922502</td>\n",
       "      <td>93.823906</td>\n",
       "      <td>4.997708</td>\n",
       "    </tr>\n",
       "    <tr>\n",
       "      <th>min</th>\n",
       "      <td>246.739720</td>\n",
       "      <td>249.857590</td>\n",
       "      <td>-15.328786</td>\n",
       "    </tr>\n",
       "    <tr>\n",
       "      <th>25%</th>\n",
       "      <td>435.220788</td>\n",
       "      <td>435.029091</td>\n",
       "      <td>-1.965762</td>\n",
       "    </tr>\n",
       "    <tr>\n",
       "      <th>50%</th>\n",
       "      <td>502.979961</td>\n",
       "      <td>502.230042</td>\n",
       "      <td>1.162659</td>\n",
       "    </tr>\n",
       "    <tr>\n",
       "      <th>75%</th>\n",
       "      <td>567.451939</td>\n",
       "      <td>566.021378</td>\n",
       "      <td>5.133751</td>\n",
       "    </tr>\n",
       "    <tr>\n",
       "      <th>max</th>\n",
       "      <td>722.263944</td>\n",
       "      <td>719.149048</td>\n",
       "      <td>14.624481</td>\n",
       "    </tr>\n",
       "  </tbody>\n",
       "</table>\n",
       "</div>"
      ],
      "text/plain": [
       "           y_test      y_pred        diff\n",
       "count  300.000000  300.000000  300.000000\n",
       "mean   500.375339  499.062653    1.312698\n",
       "std     93.922502   93.823906    4.997708\n",
       "min    246.739720  249.857590  -15.328786\n",
       "25%    435.220788  435.029091   -1.965762\n",
       "50%    502.979961  502.230042    1.162659\n",
       "75%    567.451939  566.021378    5.133751\n",
       "max    722.263944  719.149048   14.624481"
      ]
     },
     "execution_count": 98,
     "metadata": {},
     "output_type": "execute_result"
    }
   ],
   "source": [
    "pred_df.describe()"
   ]
  },
  {
   "cell_type": "markdown",
   "id": "aa6082c8",
   "metadata": {},
   "source": [
    "From the above mean of y_test (500) and RMSE 5.15, which is just 1% of mean of y_test. This indicates that the model is doing a good job in predicting the prices."
   ]
  },
  {
   "cell_type": "code",
   "execution_count": 83,
   "id": "46f3fd5d",
   "metadata": {},
   "outputs": [
    {
     "data": {
      "text/plain": [
       "<AxesSubplot:xlabel='y_test', ylabel='y_pred'>"
      ]
     },
     "execution_count": 83,
     "metadata": {},
     "output_type": "execute_result"
    },
    {
     "data": {
      "image/png": "[encoded data removed]",
      "text/plain": [
       "<Figure size 432x288 with 1 Axes>"
      ]
     },
     "metadata": {
      "needs_background": "light"
     },
     "output_type": "display_data"
    }
   ],
   "source": [
    "sns.scatterplot(x=\"y_test\", y=\"y_pred\", data=pred_df)"
   ]
  },
  {
   "cell_type": "markdown",
   "id": "bdf44271",
   "metadata": {},
   "source": [
    "Above plot indicates that the true value and model predictions are correlating each other and perfect match."
   ]
  },
  {
   "cell_type": "markdown",
   "id": "0e248a9f",
   "metadata": {},
   "source": [
    "## Predict new Value"
   ]
  },
  {
   "cell_type": "code",
   "execution_count": 108,
   "id": "3dcd6b08",
   "metadata": {},
   "outputs": [],
   "source": [
    "# Lets create new validation samples using original data\n",
    "import statistics\n",
    "\n",
    "df_new = pd.DataFrame({\n",
    "    \"feature1\" : np.random.normal(loc=df.feature1.mean(), scale=statistics.pstdev(df.feature1), size=5),\n",
    "    \"feature2\" : np.random.normal(loc=df.feature2.mean(), scale=statistics.pstdev(df.feature2), size=5)\n",
    "})\n"
   ]
  },
  {
   "cell_type": "code",
   "execution_count": 109,
   "id": "9ee3baa0",
   "metadata": {},
   "outputs": [
    {
     "data": {
      "text/html": [
       "<div>\n",
       "<style scoped>\n",
       "    .dataframe tbody tr th:only-of-type {\n",
       "        vertical-align: middle;\n",
       "    }\n",
       "\n",
       "    .dataframe tbody tr th {\n",
       "        vertical-align: top;\n",
       "    }\n",
       "\n",
       "    .dataframe thead th {\n",
       "        text-align: right;\n",
       "    }\n",
       "</style>\n",
       "<table border=\"1\" class=\"dataframe\">\n",
       "  <thead>\n",
       "    <tr style=\"text-align: right;\">\n",
       "      <th></th>\n",
       "      <th>feature1</th>\n",
       "      <th>feature2</th>\n",
       "    </tr>\n",
       "  </thead>\n",
       "  <tbody>\n",
       "    <tr>\n",
       "      <th>0</th>\n",
       "      <td>1000.222282</td>\n",
       "      <td>1001.043422</td>\n",
       "    </tr>\n",
       "    <tr>\n",
       "      <th>1</th>\n",
       "      <td>998.899075</td>\n",
       "      <td>1000.872172</td>\n",
       "    </tr>\n",
       "    <tr>\n",
       "      <th>2</th>\n",
       "      <td>1000.217487</td>\n",
       "      <td>1000.073113</td>\n",
       "    </tr>\n",
       "    <tr>\n",
       "      <th>3</th>\n",
       "      <td>999.086381</td>\n",
       "      <td>1001.464505</td>\n",
       "    </tr>\n",
       "    <tr>\n",
       "      <th>4</th>\n",
       "      <td>998.426024</td>\n",
       "      <td>1002.077780</td>\n",
       "    </tr>\n",
       "  </tbody>\n",
       "</table>\n",
       "</div>"
      ],
      "text/plain": [
       "      feature1     feature2\n",
       "0  1000.222282  1001.043422\n",
       "1   998.899075  1000.872172\n",
       "2  1000.217487  1000.073113\n",
       "3   999.086381  1001.464505\n",
       "4   998.426024  1002.077780"
      ]
     },
     "execution_count": 109,
     "metadata": {},
     "output_type": "execute_result"
    }
   ],
   "source": [
    "df_new"
   ]
  },
  {
   "cell_type": "code",
   "execution_count": 112,
   "id": "f08dfdf2",
   "metadata": {},
   "outputs": [],
   "source": [
    "X_new_scaled = scaler.transform(df_new.values)"
   ]
  },
  {
   "cell_type": "code",
   "execution_count": 113,
   "id": "644968f1",
   "metadata": {},
   "outputs": [
    {
     "data": {
      "text/plain": [
       "array([[0.50764592, 0.72712363],\n",
       "       [0.28944013, 0.6963611 ],\n",
       "       [0.50685515, 0.55282163],\n",
       "       [0.32032815, 0.80276504],\n",
       "       [0.21143068, 0.91293103]])"
      ]
     },
     "execution_count": 113,
     "metadata": {},
     "output_type": "execute_result"
    }
   ],
   "source": [
    "X_new_scaled"
   ]
  },
  {
   "cell_type": "code",
   "execution_count": 114,
   "id": "8944cf52",
   "metadata": {},
   "outputs": [
    {
     "data": {
      "text/plain": [
       "array([[599.40393],\n",
       "       [531.43604],\n",
       "       [513.4436 ],\n",
       "       [591.2727 ],\n",
       "       [619.11664]], dtype=float32)"
      ]
     },
     "execution_count": 114,
     "metadata": {},
     "output_type": "execute_result"
    }
   ],
   "source": [
    "y_new_pred = model.predict(X_new_scaled)\n",
    "y_new_pred"
   ]
  },
  {
   "cell_type": "markdown",
   "id": "ccfec906",
   "metadata": {},
   "source": [
    "## Save Model"
   ]
  },
  {
   "cell_type": "code",
   "execution_count": 115,
   "id": "93987be1",
   "metadata": {},
   "outputs": [],
   "source": [
    "from tensorflow.keras.models import load_model"
   ]
  },
  {
   "cell_type": "code",
   "execution_count": 116,
   "id": "591cd1f2",
   "metadata": {},
   "outputs": [],
   "source": [
    "model.save('sample_reg.h5')"
   ]
  },
  {
   "cell_type": "code",
   "execution_count": 117,
   "id": "1b26d2f7",
   "metadata": {},
   "outputs": [],
   "source": [
    "new_model = load_model('sample_reg.h5')"
   ]
  },
  {
   "cell_type": "code",
   "execution_count": 118,
   "id": "e93eba37",
   "metadata": {},
   "outputs": [
    {
     "data": {
      "text/plain": [
       "array([[599.40393],\n",
       "       [531.43604],\n",
       "       [513.4436 ],\n",
       "       [591.2727 ],\n",
       "       [619.11664]], dtype=float32)"
      ]
     },
     "execution_count": 118,
     "metadata": {},
     "output_type": "execute_result"
    }
   ],
   "source": [
    "new_model.predict(X_new_scaled)"
   ]
  },
  {
   "cell_type": "code",
   "execution_count": null,
   "id": "bd7abe79",
   "metadata": {},
   "outputs": [],
   "source": []
  }
 ],
 "metadata": {
  "kernelspec": {
   "display_name": "deep-modeling",
   "language": "python",
   "name": "deep-modeling"
  },
  "language_info": {
   "codemirror_mode": {
    "name": "ipython",
    "version": 3
   },
   "file_extension": ".py",
   "mimetype": "text/x-python",
   "name": "python",
   "nbconvert_exporter": "python",
   "pygments_lexer": "ipython3",
   "version": "3.9.4"
  }
 },
 "nbformat": 4,
 "nbformat_minor": 5
}
